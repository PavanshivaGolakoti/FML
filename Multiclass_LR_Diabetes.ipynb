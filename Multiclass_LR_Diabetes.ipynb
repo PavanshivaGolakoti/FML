{
  "nbformat": 4,
  "nbformat_minor": 0,
  "metadata": {
    "colab": {
      "name": "Multiclass_LR_Diabetes.ipynb",
      "provenance": [],
      "collapsed_sections": [],
      "authorship_tag": "ABX9TyOrNbmv85INRtswpyzTe5Ck",
      "include_colab_link": true
    },
    "kernelspec": {
      "name": "python3",
      "display_name": "Python 3"
    },
    "language_info": {
      "name": "python"
    }
  },
  "cells": [
    {
      "cell_type": "markdown",
      "metadata": {
        "id": "view-in-github",
        "colab_type": "text"
      },
      "source": [
        "<a href=\"https://colab.research.google.com/github/PavanshivaGolakoti/FML/blob/main/Multiclass_LR_Diabetes.ipynb\" target=\"_parent\"><img src=\"https://colab.research.google.com/assets/colab-badge.svg\" alt=\"Open In Colab\"/></a>"
      ]
    },
    {
      "cell_type": "markdown",
      "source": [
        "**Iris Classifier using Multi Class Logistic Regression.**\n",
        "\n",
        "Import Packages, Functions and classes"
      ],
      "metadata": {
        "id": "1-grvSV7FrOi"
      }
    },
    {
      "cell_type": "code",
      "source": [
        "import matplotlib.pyplot as plt\n",
        "import numpy as np\n",
        "from sklearn.datasets import load_iris\n",
        "from sklearn.model_selection import train_test_split\n",
        "from sklearn.preprocessing import StandardScaler\n",
        "from sklearn.linear_model import LogisticRegression\n",
        "from sklearn.metrics import classification_report, confusion_matrix"
      ],
      "metadata": {
        "id": "f6DLmPTwFwfh"
      },
      "execution_count": null,
      "outputs": []
    },
    {
      "cell_type": "markdown",
      "source": [
        "load the data"
      ],
      "metadata": {
        "id": "MvQCUqKDF12n"
      }
    },
    {
      "cell_type": "code",
      "source": [
        "iris=load_iris()"
      ],
      "metadata": {
        "id": "-r3zcCuwF2_h"
      },
      "execution_count": null,
      "outputs": []
    },
    {
      "cell_type": "markdown",
      "source": [
        "Features are *"
      ],
      "metadata": {
        "id": "dPXj3359F8PL"
      }
    },
    {
      "cell_type": "code",
      "source": [
        "iris.feature_names"
      ],
      "metadata": {
        "colab": {
          "base_uri": "https://localhost:8080/"
        },
        "id": "xTwORF8UF9d3",
        "outputId": "a113af81-189d-4468-a774-44cf8cd918cf"
      },
      "execution_count": null,
      "outputs": [
        {
          "output_type": "execute_result",
          "data": {
            "text/plain": [
              "['sepal length (cm)',\n",
              " 'sepal width (cm)',\n",
              " 'petal length (cm)',\n",
              " 'petal width (cm)']"
            ]
          },
          "metadata": {},
          "execution_count": 3
        }
      ]
    },
    {
      "cell_type": "markdown",
      "source": [
        "Labels are :"
      ],
      "metadata": {
        "id": "QDb_1977GNeg"
      }
    },
    {
      "cell_type": "code",
      "source": [
        "print(iris.target_names)"
      ],
      "metadata": {
        "colab": {
          "base_uri": "https://localhost:8080/"
        },
        "id": "KHQZS6upGQu_",
        "outputId": "7963d86f-1300-4214-9baa-433182616a27"
      },
      "execution_count": null,
      "outputs": [
        {
          "output_type": "stream",
          "name": "stdout",
          "text": [
            "['setosa' 'versicolor' 'virginica']\n"
          ]
        }
      ]
    },
    {
      "cell_type": "markdown",
      "source": [
        "Now split the data into training data and testing data"
      ],
      "metadata": {
        "id": "_USWvg1nGW8n"
      }
    },
    {
      "cell_type": "code",
      "source": [
        "X_train, X_test, y_train, y_test = train_test_split(iris.data, iris.target, test_size=0.1, random_state=41)"
      ],
      "metadata": {
        "id": "6sr_xPuFGX_6"
      },
      "execution_count": null,
      "outputs": []
    },
    {
      "cell_type": "markdown",
      "source": [
        "Fit the hyper-parameter(c) and training data."
      ],
      "metadata": {
        "id": "GbzZFd8mGeK4"
      }
    },
    {
      "cell_type": "code",
      "source": [
        "model = LogisticRegression(C=5, multi_class='ovr',random_state=0)\n",
        "model.fit(X_train, y_train)"
      ],
      "metadata": {
        "colab": {
          "base_uri": "https://localhost:8080/"
        },
        "id": "sFSBvDnhGfbw",
        "outputId": "d31ebfb8-e4ab-4378-b6f7-7dfe95c59dbe"
      },
      "execution_count": null,
      "outputs": [
        {
          "output_type": "execute_result",
          "data": {
            "text/plain": [
              "LogisticRegression(C=5, multi_class='ovr', random_state=0)"
            ]
          },
          "metadata": {},
          "execution_count": 6
        }
      ]
    },
    {
      "cell_type": "markdown",
      "source": [
        "Measure the performance of Training data."
      ],
      "metadata": {
        "id": "R67I6RdlGkDv"
      }
    },
    {
      "cell_type": "code",
      "source": [
        "model.score(X_train, y_train)\n",
        "y_pred = model.predict(X_test)"
      ],
      "metadata": {
        "id": "si1U5nM-Gk4q"
      },
      "execution_count": 9,
      "outputs": []
    },
    {
      "cell_type": "markdown",
      "source": [
        "Build a Confusion matrix for actual label data and predicted label data."
      ],
      "metadata": {
        "id": "rCf4kkQKGp8x"
      }
    },
    {
      "cell_type": "code",
      "source": [
        "confusion_matrix(y_test, y_pred)"
      ],
      "metadata": {
        "id": "-GBedmXNGqp3",
        "outputId": "7cffdcda-30e4-497f-b8b4-1cda26a38d7c",
        "colab": {
          "base_uri": "https://localhost:8080/"
        }
      },
      "execution_count": 10,
      "outputs": [
        {
          "output_type": "execute_result",
          "data": {
            "text/plain": [
              "array([[3, 0, 0],\n",
              "       [0, 4, 0],\n",
              "       [0, 1, 7]])"
            ]
          },
          "metadata": {},
          "execution_count": 10
        }
      ]
    },
    {
      "cell_type": "markdown",
      "source": [
        "Find all the evaluation metrics like accuracy,precision,recall and f1-score"
      ],
      "metadata": {
        "id": "JGcy-yiLJLxh"
      }
    },
    {
      "cell_type": "code",
      "source": [
        "print(classification_report(y_test, y_pred))"
      ],
      "metadata": {
        "colab": {
          "base_uri": "https://localhost:8080/"
        },
        "id": "izZCwaSeJMZo",
        "outputId": "d21402f8-3ea2-4ea6-cc01-306a7f32ac1c"
      },
      "execution_count": 11,
      "outputs": [
        {
          "output_type": "stream",
          "name": "stdout",
          "text": [
            "              precision    recall  f1-score   support\n",
            "\n",
            "           0       1.00      1.00      1.00         3\n",
            "           1       0.80      1.00      0.89         4\n",
            "           2       1.00      0.88      0.93         8\n",
            "\n",
            "    accuracy                           0.93        15\n",
            "   macro avg       0.93      0.96      0.94        15\n",
            "weighted avg       0.95      0.93      0.93        15\n",
            "\n"
          ]
        }
      ]
    },
    {
      "cell_type": "markdown",
      "source": [
        "**CONCLUSION** : We can say that our model perform well."
      ],
      "metadata": {
        "id": "vWVTcQ0BJPaP"
      }
    }
  ]
}